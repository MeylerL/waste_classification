{
 "cells": [
  {
   "cell_type": "code",
   "execution_count": 1,
   "id": "d57414b6",
   "metadata": {},
   "outputs": [],
   "source": [
    "%load_ext autoreload\n",
    "%autoreload 2"
   ]
  },
  {
   "cell_type": "code",
   "execution_count": 2,
   "id": "b06dfb6a",
   "metadata": {},
   "outputs": [
    {
     "ename": "ModuleNotFoundError",
     "evalue": "No module named 'waste_classification.taco_to_trashnet'",
     "output_type": "error",
     "traceback": [
      "\u001b[0;31m---------------------------------------------------------------------------\u001b[0m",
      "\u001b[0;31mModuleNotFoundError\u001b[0m                       Traceback (most recent call last)",
      "\u001b[0;32m/var/folders/00/zjtrmnh15v3fz6ky9jjmvtm00000gn/T/ipykernel_9316/1182628699.py\u001b[0m in \u001b[0;36m<module>\u001b[0;34m\u001b[0m\n\u001b[0;32m----> 1\u001b[0;31m \u001b[0;32mfrom\u001b[0m \u001b[0mwaste_classification\u001b[0m\u001b[0;34m.\u001b[0m\u001b[0mtaco_to_trashnet\u001b[0m \u001b[0;32mimport\u001b[0m \u001b[0mget_tacos\u001b[0m\u001b[0;34m\u001b[0m\u001b[0;34m\u001b[0m\u001b[0m\n\u001b[0m",
      "\u001b[0;31mModuleNotFoundError\u001b[0m: No module named 'waste_classification.taco_to_trashnet'"
     ]
    }
   ],
   "source": [
    "from waste_classification.taco_to_trashnet import get_tacos"
   ]
  },
  {
   "cell_type": "code",
   "execution_count": 3,
   "id": "0591bce6",
   "metadata": {},
   "outputs": [
    {
     "ename": "NameError",
     "evalue": "name 'get_tacos' is not defined",
     "output_type": "error",
     "traceback": [
      "\u001b[0;31m---------------------------------------------------------------------------\u001b[0m",
      "\u001b[0;31mNameError\u001b[0m                                 Traceback (most recent call last)",
      "\u001b[0;32m/var/folders/00/zjtrmnh15v3fz6ky9jjmvtm00000gn/T/ipykernel_9316/106250921.py\u001b[0m in \u001b[0;36m<module>\u001b[0;34m\u001b[0m\n\u001b[1;32m      1\u001b[0m \u001b[0mmy_path\u001b[0m \u001b[0;34m=\u001b[0m \u001b[0;34m\"/Users/izzy/code/MeylerL/waste_classification/raw_data\"\u001b[0m\u001b[0;34m\u001b[0m\u001b[0;34m\u001b[0m\u001b[0m\n\u001b[0;32m----> 2\u001b[0;31m \u001b[0mget_tacos\u001b[0m\u001b[0;34m(\u001b[0m\u001b[0mmy_path\u001b[0m\u001b[0;34m)\u001b[0m\u001b[0;34m\u001b[0m\u001b[0;34m\u001b[0m\u001b[0m\n\u001b[0m",
      "\u001b[0;31mNameError\u001b[0m: name 'get_tacos' is not defined"
     ]
    }
   ],
   "source": [
    "my_path = \"/Users/izzy/code/MeylerL/waste_classification/raw_data\"\n",
    "get_tacos(my_path)"
   ]
  },
  {
   "cell_type": "code",
   "execution_count": null,
   "id": "ad0ac782",
   "metadata": {},
   "outputs": [],
   "source": [
    "from waste_classification.data import get_data_trashnet"
   ]
  },
  {
   "cell_type": "code",
   "execution_count": 1,
   "id": "c1446110",
   "metadata": {},
   "outputs": [],
   "source": [
    "from waste_classification.params import BUCKET_NAME"
   ]
  },
  {
   "cell_type": "code",
   "execution_count": 2,
   "id": "f5cb6800",
   "metadata": {},
   "outputs": [
    {
     "data": {
      "text/plain": [
       "'wagon-data-699-waste_classification'"
      ]
     },
     "execution_count": 2,
     "metadata": {},
     "output_type": "execute_result"
    }
   ],
   "source": [
    "BUCKET_NAME"
   ]
  },
  {
   "cell_type": "code",
   "execution_count": null,
   "id": "fa2b33bd",
   "metadata": {},
   "outputs": [],
   "source": []
  }
 ],
 "metadata": {
  "kernelspec": {
   "display_name": "Python 3 (ipykernel)",
   "language": "python",
   "name": "python3"
  },
  "language_info": {
   "codemirror_mode": {
    "name": "ipython",
    "version": 3
   },
   "file_extension": ".py",
   "mimetype": "text/x-python",
   "name": "python",
   "nbconvert_exporter": "python",
   "pygments_lexer": "ipython3",
   "version": "3.8.6"
  }
 },
 "nbformat": 4,
 "nbformat_minor": 5
}
