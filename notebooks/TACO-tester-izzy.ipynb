{
 "cells": [
  {
   "cell_type": "code",
   "execution_count": 32,
   "id": "d57414b6",
   "metadata": {},
   "outputs": [
    {
     "name": "stdout",
     "output_type": "stream",
     "text": [
      "The autoreload extension is already loaded. To reload it, use:\n",
      "  %reload_ext autoreload\n"
     ]
    }
   ],
   "source": [
    "%load_ext autoreload\n",
    "%autoreload 2"
   ]
  },
  {
   "cell_type": "code",
   "execution_count": 46,
   "id": "b06dfb6a",
   "metadata": {},
   "outputs": [],
   "source": [
    "from waste_classification.taco_to_trashnet import get_tacos"
   ]
  },
  {
   "cell_type": "code",
   "execution_count": 47,
   "id": "0591bce6",
   "metadata": {},
   "outputs": [],
   "source": [
    "my_path = \"/Users/izzy/code/MeylerL/waste_classification/raw_data\"\n",
    "get_tacos(my_path)"
   ]
  },
  {
   "cell_type": "code",
   "execution_count": null,
   "id": "ad0ac782",
   "metadata": {},
   "outputs": [],
   "source": []
  },
  {
   "cell_type": "code",
   "execution_count": null,
   "id": "c1446110",
   "metadata": {},
   "outputs": [],
   "source": []
  }
 ],
 "metadata": {
  "kernelspec": {
   "display_name": "Python 3 (ipykernel)",
   "language": "python",
   "name": "python3"
  },
  "language_info": {
   "codemirror_mode": {
    "name": "ipython",
    "version": 3
   },
   "file_extension": ".py",
   "mimetype": "text/x-python",
   "name": "python",
   "nbconvert_exporter": "python",
   "pygments_lexer": "ipython3",
   "version": "3.8.6"
  }
 },
 "nbformat": 4,
 "nbformat_minor": 5
}
