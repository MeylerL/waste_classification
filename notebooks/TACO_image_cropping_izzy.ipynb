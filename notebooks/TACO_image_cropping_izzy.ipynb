{
 "cells": [
  {
   "cell_type": "code",
   "execution_count": 1,
   "id": "0ae6e27f",
   "metadata": {},
   "outputs": [],
   "source": [
    "import pandas as pd\n",
    "%matplotlib inline\n",
    "import json\n",
    "import numpy as np\n",
    "import matplotlib.pyplot as plt\n",
    "from matplotlib import pyplot\n",
    " \n",
    "import os\n",
    "import os.path\n",
    "import PIL\n",
    "from PIL import Image, ImageFilter"
   ]
  },
  {
   "cell_type": "code",
   "execution_count": 2,
   "id": "5c407d31",
   "metadata": {},
   "outputs": [],
   "source": [
    "TACO_path = \"../raw_data/TACO/\"\n",
    "annotations_path = \"../raw_data/TACO/data/annotations.json\""
   ]
  },
  {
   "cell_type": "code",
   "execution_count": 3,
   "id": "da78dad1",
   "metadata": {},
   "outputs": [],
   "source": [
    "with open(annotations_path , 'r') as f:\n",
    "    dataset = json.loads(f.read())"
   ]
  },
  {
   "cell_type": "code",
   "execution_count": 4,
   "id": "7727eb36",
   "metadata": {},
   "outputs": [],
   "source": [
    "categories = dataset['categories']\n",
    "anns = dataset['annotations']\n",
    "imgs = dataset['images']\n",
    "nr_cats = len(categories)\n",
    "nr_annotations = len(anns)\n",
    "nr_images = len(imgs)"
   ]
  },
  {
   "cell_type": "code",
   "execution_count": 5,
   "id": "7c41c7dd",
   "metadata": {},
   "outputs": [],
   "source": [
    "cat_df = pd.DataFrame(categories)\n",
    "keyValList = ['Cigarette','Clear plastic bottle','Drink can','Plastic straw','Plastic film']\n",
    "category_df = pd.DataFrame([d for d in categories if d['name'] in keyValList])"
   ]
  },
  {
   "cell_type": "code",
   "execution_count": 6,
   "id": "7edea877",
   "metadata": {},
   "outputs": [
    {
     "data": {
      "text/html": [
       "<div>\n",
       "<style scoped>\n",
       "    .dataframe tbody tr th:only-of-type {\n",
       "        vertical-align: middle;\n",
       "    }\n",
       "\n",
       "    .dataframe tbody tr th {\n",
       "        vertical-align: top;\n",
       "    }\n",
       "\n",
       "    .dataframe thead th {\n",
       "        text-align: right;\n",
       "    }\n",
       "</style>\n",
       "<table border=\"1\" class=\"dataframe\">\n",
       "  <thead>\n",
       "    <tr style=\"text-align: right;\">\n",
       "      <th></th>\n",
       "      <th>supercategory</th>\n",
       "      <th>id</th>\n",
       "      <th>name</th>\n",
       "    </tr>\n",
       "  </thead>\n",
       "  <tbody>\n",
       "    <tr>\n",
       "      <th>0</th>\n",
       "      <td>Bottle</td>\n",
       "      <td>5</td>\n",
       "      <td>Clear plastic bottle</td>\n",
       "    </tr>\n",
       "    <tr>\n",
       "      <th>1</th>\n",
       "      <td>Can</td>\n",
       "      <td>12</td>\n",
       "      <td>Drink can</td>\n",
       "    </tr>\n",
       "    <tr>\n",
       "      <th>2</th>\n",
       "      <td>Plastic bag &amp; wrapper</td>\n",
       "      <td>36</td>\n",
       "      <td>Plastic film</td>\n",
       "    </tr>\n",
       "    <tr>\n",
       "      <th>3</th>\n",
       "      <td>Straw</td>\n",
       "      <td>55</td>\n",
       "      <td>Plastic straw</td>\n",
       "    </tr>\n",
       "    <tr>\n",
       "      <th>4</th>\n",
       "      <td>Cigarette</td>\n",
       "      <td>59</td>\n",
       "      <td>Cigarette</td>\n",
       "    </tr>\n",
       "  </tbody>\n",
       "</table>\n",
       "</div>"
      ],
      "text/plain": [
       "           supercategory  id                  name\n",
       "0                 Bottle   5  Clear plastic bottle\n",
       "1                    Can  12             Drink can\n",
       "2  Plastic bag & wrapper  36          Plastic film\n",
       "3                  Straw  55         Plastic straw\n",
       "4              Cigarette  59             Cigarette"
      ]
     },
     "execution_count": 6,
     "metadata": {},
     "output_type": "execute_result"
    }
   ],
   "source": [
    "category_df.head()"
   ]
  },
  {
   "cell_type": "code",
   "execution_count": 7,
   "id": "a3977783",
   "metadata": {},
   "outputs": [],
   "source": [
    "category_conversion = {}\n",
    "category_conversion['metal'] = [0,8,10,11,12,28]\n",
    "category_conversion['cardboard'] = [13,14,15,16,17,18,19,20]\n",
    "category_conversion['glass'] = [6,9,23,26]\n",
    "category_conversion['paper'] = [21,30,31,32,33,34]\n",
    "category_conversion['plastic'] = [4,5,7,24,27,43,44,47,49,55]\n",
    "category_conversion['trash'] = [1,2,3,22,25,29,35,36,37,38,39,40,41,42,45,46,48,50,51,52,53,54,57,58,59]"
   ]
  },
  {
   "cell_type": "code",
   "execution_count": 8,
   "id": "97ca3543",
   "metadata": {},
   "outputs": [],
   "source": [
    "cropping_df = pd.DataFrame(columns = [\"image_id\", \"cat_name\"])\n",
    "for ann in range(nr_annotations):\n",
    "    for cat_name, type_nums in category_conversion.items():\n",
    "        if anns[ann][\"category_id\"] in type_nums:\n",
    "            cropping_df=cropping_df.append({\"image_id\": anns[ann][\"image_id\"],\"segmentation\": anns[ann][\"segmentation\"],\"area\": anns[ann][\"area\"],\"iscrowd\": anns[ann][\"iscrowd\"],\"bbox\": anns[ann][\"bbox\"],\"cat_name\":cat_name}, ignore_index=True)"
   ]
  },
  {
   "cell_type": "code",
   "execution_count": 9,
   "id": "c0250b1d",
   "metadata": {},
   "outputs": [
    {
     "data": {
      "text/html": [
       "<div>\n",
       "<style scoped>\n",
       "    .dataframe tbody tr th:only-of-type {\n",
       "        vertical-align: middle;\n",
       "    }\n",
       "\n",
       "    .dataframe tbody tr th {\n",
       "        vertical-align: top;\n",
       "    }\n",
       "\n",
       "    .dataframe thead th {\n",
       "        text-align: right;\n",
       "    }\n",
       "</style>\n",
       "<table border=\"1\" class=\"dataframe\">\n",
       "  <thead>\n",
       "    <tr style=\"text-align: right;\">\n",
       "      <th></th>\n",
       "      <th>image_id</th>\n",
       "      <th>cat_name</th>\n",
       "      <th>area</th>\n",
       "      <th>bbox</th>\n",
       "      <th>iscrowd</th>\n",
       "      <th>segmentation</th>\n",
       "    </tr>\n",
       "  </thead>\n",
       "  <tbody>\n",
       "    <tr>\n",
       "      <th>0</th>\n",
       "      <td>0</td>\n",
       "      <td>glass</td>\n",
       "      <td>403954.0</td>\n",
       "      <td>[517.0, 127.0, 447.0, 1322.0]</td>\n",
       "      <td>0.0</td>\n",
       "      <td>[[561.0, 1238.0, 568.0, 1201.0, 567.0, 1175.0,...</td>\n",
       "    </tr>\n",
       "    <tr>\n",
       "      <th>1</th>\n",
       "      <td>1</td>\n",
       "      <td>cardboard</td>\n",
       "      <td>1071259.5</td>\n",
       "      <td>[1.0, 457.0, 1429.0, 1519.0]</td>\n",
       "      <td>0.0</td>\n",
       "      <td>[[928.0, 1876.0, 938.0, 1856.0, 968.0, 1826.0,...</td>\n",
       "    </tr>\n",
       "    <tr>\n",
       "      <th>2</th>\n",
       "      <td>1</td>\n",
       "      <td>cardboard</td>\n",
       "      <td>99583.5</td>\n",
       "      <td>[531.0, 292.0, 1006.0, 672.0]</td>\n",
       "      <td>0.0</td>\n",
       "      <td>[[617.0, 383.0, 703.0, 437.0, 713.0, 456.0, 72...</td>\n",
       "    </tr>\n",
       "    <tr>\n",
       "      <th>3</th>\n",
       "      <td>2</td>\n",
       "      <td>plastic</td>\n",
       "      <td>73832.5</td>\n",
       "      <td>[632.0, 987.0, 500.0, 374.0]</td>\n",
       "      <td>0.0</td>\n",
       "      <td>[[670.0, 993.0, 679.0, 998.0, 684.0, 1001.0, 6...</td>\n",
       "    </tr>\n",
       "    <tr>\n",
       "      <th>4</th>\n",
       "      <td>2</td>\n",
       "      <td>plastic</td>\n",
       "      <td>915.0</td>\n",
       "      <td>[632.0, 989.0, 44.0, 51.0]</td>\n",
       "      <td>0.0</td>\n",
       "      <td>[[647.0, 1028.0, 650.0, 1022.0, 653.0, 1016.0,...</td>\n",
       "    </tr>\n",
       "  </tbody>\n",
       "</table>\n",
       "</div>"
      ],
      "text/plain": [
       "  image_id   cat_name       area                           bbox  iscrowd  \\\n",
       "0        0      glass   403954.0  [517.0, 127.0, 447.0, 1322.0]      0.0   \n",
       "1        1  cardboard  1071259.5   [1.0, 457.0, 1429.0, 1519.0]      0.0   \n",
       "2        1  cardboard    99583.5  [531.0, 292.0, 1006.0, 672.0]      0.0   \n",
       "3        2    plastic    73832.5   [632.0, 987.0, 500.0, 374.0]      0.0   \n",
       "4        2    plastic      915.0     [632.0, 989.0, 44.0, 51.0]      0.0   \n",
       "\n",
       "                                        segmentation  \n",
       "0  [[561.0, 1238.0, 568.0, 1201.0, 567.0, 1175.0,...  \n",
       "1  [[928.0, 1876.0, 938.0, 1856.0, 968.0, 1826.0,...  \n",
       "2  [[617.0, 383.0, 703.0, 437.0, 713.0, 456.0, 72...  \n",
       "3  [[670.0, 993.0, 679.0, 998.0, 684.0, 1001.0, 6...  \n",
       "4  [[647.0, 1028.0, 650.0, 1022.0, 653.0, 1016.0,...  "
      ]
     },
     "execution_count": 9,
     "metadata": {},
     "output_type": "execute_result"
    }
   ],
   "source": [
    "cropping_df.head()"
   ]
  },
  {
   "cell_type": "code",
   "execution_count": 10,
   "id": "14f4af78",
   "metadata": {},
   "outputs": [],
   "source": [
    "file_name = []\n",
    "for image_id in cropping_df[\"image_id\"]:\n",
    "    for img in imgs:\n",
    "        if img[\"id\"]==image_id:\n",
    "                file_name.append(img[\"file_name\"])"
   ]
  },
  {
   "cell_type": "code",
   "execution_count": 11,
   "id": "b59096fe",
   "metadata": {},
   "outputs": [],
   "source": [
    "file_name = pd.Series(file_name)"
   ]
  },
  {
   "cell_type": "code",
   "execution_count": 12,
   "id": "eb722623",
   "metadata": {},
   "outputs": [],
   "source": [
    "cropping_df[\"file_name\"]=file_name"
   ]
  },
  {
   "cell_type": "code",
   "execution_count": 13,
   "id": "6138a72a",
   "metadata": {},
   "outputs": [
    {
     "data": {
      "text/html": [
       "<div>\n",
       "<style scoped>\n",
       "    .dataframe tbody tr th:only-of-type {\n",
       "        vertical-align: middle;\n",
       "    }\n",
       "\n",
       "    .dataframe tbody tr th {\n",
       "        vertical-align: top;\n",
       "    }\n",
       "\n",
       "    .dataframe thead th {\n",
       "        text-align: right;\n",
       "    }\n",
       "</style>\n",
       "<table border=\"1\" class=\"dataframe\">\n",
       "  <thead>\n",
       "    <tr style=\"text-align: right;\">\n",
       "      <th></th>\n",
       "      <th>image_id</th>\n",
       "      <th>cat_name</th>\n",
       "      <th>area</th>\n",
       "      <th>bbox</th>\n",
       "      <th>iscrowd</th>\n",
       "      <th>segmentation</th>\n",
       "      <th>file_name</th>\n",
       "    </tr>\n",
       "  </thead>\n",
       "  <tbody>\n",
       "    <tr>\n",
       "      <th>0</th>\n",
       "      <td>0</td>\n",
       "      <td>glass</td>\n",
       "      <td>403954.0</td>\n",
       "      <td>[517.0, 127.0, 447.0, 1322.0]</td>\n",
       "      <td>0.0</td>\n",
       "      <td>[[561.0, 1238.0, 568.0, 1201.0, 567.0, 1175.0,...</td>\n",
       "      <td>batch_1/000006.jpg</td>\n",
       "    </tr>\n",
       "    <tr>\n",
       "      <th>1</th>\n",
       "      <td>1</td>\n",
       "      <td>cardboard</td>\n",
       "      <td>1071259.5</td>\n",
       "      <td>[1.0, 457.0, 1429.0, 1519.0]</td>\n",
       "      <td>0.0</td>\n",
       "      <td>[[928.0, 1876.0, 938.0, 1856.0, 968.0, 1826.0,...</td>\n",
       "      <td>batch_1/000008.jpg</td>\n",
       "    </tr>\n",
       "    <tr>\n",
       "      <th>2</th>\n",
       "      <td>1</td>\n",
       "      <td>cardboard</td>\n",
       "      <td>99583.5</td>\n",
       "      <td>[531.0, 292.0, 1006.0, 672.0]</td>\n",
       "      <td>0.0</td>\n",
       "      <td>[[617.0, 383.0, 703.0, 437.0, 713.0, 456.0, 72...</td>\n",
       "      <td>batch_1/000008.jpg</td>\n",
       "    </tr>\n",
       "    <tr>\n",
       "      <th>3</th>\n",
       "      <td>2</td>\n",
       "      <td>plastic</td>\n",
       "      <td>73832.5</td>\n",
       "      <td>[632.0, 987.0, 500.0, 374.0]</td>\n",
       "      <td>0.0</td>\n",
       "      <td>[[670.0, 993.0, 679.0, 998.0, 684.0, 1001.0, 6...</td>\n",
       "      <td>batch_1/000010.jpg</td>\n",
       "    </tr>\n",
       "    <tr>\n",
       "      <th>4</th>\n",
       "      <td>2</td>\n",
       "      <td>plastic</td>\n",
       "      <td>915.0</td>\n",
       "      <td>[632.0, 989.0, 44.0, 51.0]</td>\n",
       "      <td>0.0</td>\n",
       "      <td>[[647.0, 1028.0, 650.0, 1022.0, 653.0, 1016.0,...</td>\n",
       "      <td>batch_1/000010.jpg</td>\n",
       "    </tr>\n",
       "  </tbody>\n",
       "</table>\n",
       "</div>"
      ],
      "text/plain": [
       "  image_id   cat_name       area                           bbox  iscrowd  \\\n",
       "0        0      glass   403954.0  [517.0, 127.0, 447.0, 1322.0]      0.0   \n",
       "1        1  cardboard  1071259.5   [1.0, 457.0, 1429.0, 1519.0]      0.0   \n",
       "2        1  cardboard    99583.5  [531.0, 292.0, 1006.0, 672.0]      0.0   \n",
       "3        2    plastic    73832.5   [632.0, 987.0, 500.0, 374.0]      0.0   \n",
       "4        2    plastic      915.0     [632.0, 989.0, 44.0, 51.0]      0.0   \n",
       "\n",
       "                                        segmentation           file_name  \n",
       "0  [[561.0, 1238.0, 568.0, 1201.0, 567.0, 1175.0,...  batch_1/000006.jpg  \n",
       "1  [[928.0, 1876.0, 938.0, 1856.0, 968.0, 1826.0,...  batch_1/000008.jpg  \n",
       "2  [[617.0, 383.0, 703.0, 437.0, 713.0, 456.0, 72...  batch_1/000008.jpg  \n",
       "3  [[670.0, 993.0, 679.0, 998.0, 684.0, 1001.0, 6...  batch_1/000010.jpg  \n",
       "4  [[647.0, 1028.0, 650.0, 1022.0, 653.0, 1016.0,...  batch_1/000010.jpg  "
      ]
     },
     "execution_count": 13,
     "metadata": {},
     "output_type": "execute_result"
    }
   ],
   "source": [
    "cropping_df.head()"
   ]
  },
  {
   "cell_type": "code",
   "execution_count": 14,
   "id": "76b44074",
   "metadata": {},
   "outputs": [],
   "source": [
    "df = pd.concat([cropping_df , cropping_df['bbox'].apply(pd.Series)], axis = 1)"
   ]
  },
  {
   "cell_type": "code",
   "execution_count": 15,
   "id": "cdf05f32",
   "metadata": {},
   "outputs": [
    {
     "data": {
      "text/html": [
       "<div>\n",
       "<style scoped>\n",
       "    .dataframe tbody tr th:only-of-type {\n",
       "        vertical-align: middle;\n",
       "    }\n",
       "\n",
       "    .dataframe tbody tr th {\n",
       "        vertical-align: top;\n",
       "    }\n",
       "\n",
       "    .dataframe thead th {\n",
       "        text-align: right;\n",
       "    }\n",
       "</style>\n",
       "<table border=\"1\" class=\"dataframe\">\n",
       "  <thead>\n",
       "    <tr style=\"text-align: right;\">\n",
       "      <th></th>\n",
       "      <th>image_id</th>\n",
       "      <th>cat_name</th>\n",
       "      <th>area</th>\n",
       "      <th>bbox</th>\n",
       "      <th>iscrowd</th>\n",
       "      <th>segmentation</th>\n",
       "      <th>file_name</th>\n",
       "      <th>0</th>\n",
       "      <th>1</th>\n",
       "      <th>2</th>\n",
       "      <th>3</th>\n",
       "    </tr>\n",
       "  </thead>\n",
       "  <tbody>\n",
       "    <tr>\n",
       "      <th>0</th>\n",
       "      <td>0</td>\n",
       "      <td>glass</td>\n",
       "      <td>403954.0</td>\n",
       "      <td>[517.0, 127.0, 447.0, 1322.0]</td>\n",
       "      <td>0.0</td>\n",
       "      <td>[[561.0, 1238.0, 568.0, 1201.0, 567.0, 1175.0,...</td>\n",
       "      <td>batch_1/000006.jpg</td>\n",
       "      <td>517.0</td>\n",
       "      <td>127.0</td>\n",
       "      <td>447.0</td>\n",
       "      <td>1322.0</td>\n",
       "    </tr>\n",
       "  </tbody>\n",
       "</table>\n",
       "</div>"
      ],
      "text/plain": [
       "  image_id cat_name      area                           bbox  iscrowd  \\\n",
       "0        0    glass  403954.0  [517.0, 127.0, 447.0, 1322.0]      0.0   \n",
       "\n",
       "                                        segmentation           file_name  \\\n",
       "0  [[561.0, 1238.0, 568.0, 1201.0, 567.0, 1175.0,...  batch_1/000006.jpg   \n",
       "\n",
       "       0      1      2       3  \n",
       "0  517.0  127.0  447.0  1322.0  "
      ]
     },
     "execution_count": 15,
     "metadata": {},
     "output_type": "execute_result"
    }
   ],
   "source": [
    "df.head(1)"
   ]
  },
  {
   "cell_type": "code",
   "execution_count": 16,
   "id": "68bbcad9",
   "metadata": {},
   "outputs": [
    {
     "data": {
      "text/plain": [
       "Index([    'image_id',     'cat_name',         'area',         'bbox',\n",
       "            'iscrowd', 'segmentation',    'file_name',              0,\n",
       "                    1,              2,              3],\n",
       "      dtype='object')"
      ]
     },
     "execution_count": 16,
     "metadata": {},
     "output_type": "execute_result"
    }
   ],
   "source": [
    "df.columns"
   ]
  },
  {
   "cell_type": "code",
   "execution_count": 17,
   "id": "4f558545",
   "metadata": {},
   "outputs": [],
   "source": [
    "['image_id','cat_name','area','bbox','iscrowd','segmentation','file_name','x_min','y_min','x_max', 'y_max']\n",
    "df.columns = ['image_id','category','area','bbox','iscrowd','segmentation','filename','x_min','y_min','x_max', 'y_max'] # x_max : width and y_max : height\n",
    "df = df.drop(['bbox',\"image_id\", \"area\", \"iscrowd\", \"segmentation\"], axis=1)"
   ]
  },
  {
   "cell_type": "code",
   "execution_count": 18,
   "id": "a20628de",
   "metadata": {},
   "outputs": [
    {
     "data": {
      "text/html": [
       "<div>\n",
       "<style scoped>\n",
       "    .dataframe tbody tr th:only-of-type {\n",
       "        vertical-align: middle;\n",
       "    }\n",
       "\n",
       "    .dataframe tbody tr th {\n",
       "        vertical-align: top;\n",
       "    }\n",
       "\n",
       "    .dataframe thead th {\n",
       "        text-align: right;\n",
       "    }\n",
       "</style>\n",
       "<table border=\"1\" class=\"dataframe\">\n",
       "  <thead>\n",
       "    <tr style=\"text-align: right;\">\n",
       "      <th></th>\n",
       "      <th>category</th>\n",
       "      <th>filename</th>\n",
       "      <th>x_min</th>\n",
       "      <th>y_min</th>\n",
       "      <th>x_max</th>\n",
       "      <th>y_max</th>\n",
       "    </tr>\n",
       "  </thead>\n",
       "  <tbody>\n",
       "    <tr>\n",
       "      <th>0</th>\n",
       "      <td>glass</td>\n",
       "      <td>batch_1/000006.jpg</td>\n",
       "      <td>517.0</td>\n",
       "      <td>127.0</td>\n",
       "      <td>447.0</td>\n",
       "      <td>1322.0</td>\n",
       "    </tr>\n",
       "    <tr>\n",
       "      <th>1</th>\n",
       "      <td>cardboard</td>\n",
       "      <td>batch_1/000008.jpg</td>\n",
       "      <td>1.0</td>\n",
       "      <td>457.0</td>\n",
       "      <td>1429.0</td>\n",
       "      <td>1519.0</td>\n",
       "    </tr>\n",
       "    <tr>\n",
       "      <th>2</th>\n",
       "      <td>cardboard</td>\n",
       "      <td>batch_1/000008.jpg</td>\n",
       "      <td>531.0</td>\n",
       "      <td>292.0</td>\n",
       "      <td>1006.0</td>\n",
       "      <td>672.0</td>\n",
       "    </tr>\n",
       "    <tr>\n",
       "      <th>3</th>\n",
       "      <td>plastic</td>\n",
       "      <td>batch_1/000010.jpg</td>\n",
       "      <td>632.0</td>\n",
       "      <td>987.0</td>\n",
       "      <td>500.0</td>\n",
       "      <td>374.0</td>\n",
       "    </tr>\n",
       "    <tr>\n",
       "      <th>4</th>\n",
       "      <td>plastic</td>\n",
       "      <td>batch_1/000010.jpg</td>\n",
       "      <td>632.0</td>\n",
       "      <td>989.0</td>\n",
       "      <td>44.0</td>\n",
       "      <td>51.0</td>\n",
       "    </tr>\n",
       "  </tbody>\n",
       "</table>\n",
       "</div>"
      ],
      "text/plain": [
       "    category            filename  x_min  y_min   x_max   y_max\n",
       "0      glass  batch_1/000006.jpg  517.0  127.0   447.0  1322.0\n",
       "1  cardboard  batch_1/000008.jpg    1.0  457.0  1429.0  1519.0\n",
       "2  cardboard  batch_1/000008.jpg  531.0  292.0  1006.0   672.0\n",
       "3    plastic  batch_1/000010.jpg  632.0  987.0   500.0   374.0\n",
       "4    plastic  batch_1/000010.jpg  632.0  989.0    44.0    51.0"
      ]
     },
     "execution_count": 18,
     "metadata": {},
     "output_type": "execute_result"
    }
   ],
   "source": [
    "df.head()"
   ]
  },
  {
   "cell_type": "code",
   "execution_count": 19,
   "id": "70d70f96",
   "metadata": {},
   "outputs": [
    {
     "data": {
      "text/html": [
       "<div>\n",
       "<style scoped>\n",
       "    .dataframe tbody tr th:only-of-type {\n",
       "        vertical-align: middle;\n",
       "    }\n",
       "\n",
       "    .dataframe tbody tr th {\n",
       "        vertical-align: top;\n",
       "    }\n",
       "\n",
       "    .dataframe thead th {\n",
       "        text-align: right;\n",
       "    }\n",
       "</style>\n",
       "<table border=\"1\" class=\"dataframe\">\n",
       "  <thead>\n",
       "    <tr style=\"text-align: right;\">\n",
       "      <th></th>\n",
       "      <th>category</th>\n",
       "      <th>filename</th>\n",
       "      <th>x_min</th>\n",
       "      <th>y_min</th>\n",
       "      <th>x_max</th>\n",
       "      <th>y_max</th>\n",
       "    </tr>\n",
       "  </thead>\n",
       "  <tbody>\n",
       "    <tr>\n",
       "      <th>0</th>\n",
       "      <td>glass</td>\n",
       "      <td>batch_1/000006.jpg</td>\n",
       "      <td>497</td>\n",
       "      <td>107</td>\n",
       "      <td>984</td>\n",
       "      <td>1469</td>\n",
       "    </tr>\n",
       "    <tr>\n",
       "      <th>1</th>\n",
       "      <td>cardboard</td>\n",
       "      <td>batch_1/000008.jpg</td>\n",
       "      <td>-19</td>\n",
       "      <td>437</td>\n",
       "      <td>1450</td>\n",
       "      <td>1996</td>\n",
       "    </tr>\n",
       "    <tr>\n",
       "      <th>2</th>\n",
       "      <td>cardboard</td>\n",
       "      <td>batch_1/000008.jpg</td>\n",
       "      <td>511</td>\n",
       "      <td>272</td>\n",
       "      <td>1557</td>\n",
       "      <td>984</td>\n",
       "    </tr>\n",
       "    <tr>\n",
       "      <th>3</th>\n",
       "      <td>plastic</td>\n",
       "      <td>batch_1/000010.jpg</td>\n",
       "      <td>612</td>\n",
       "      <td>967</td>\n",
       "      <td>1152</td>\n",
       "      <td>1381</td>\n",
       "    </tr>\n",
       "    <tr>\n",
       "      <th>4</th>\n",
       "      <td>plastic</td>\n",
       "      <td>batch_1/000010.jpg</td>\n",
       "      <td>612</td>\n",
       "      <td>969</td>\n",
       "      <td>696</td>\n",
       "      <td>1060</td>\n",
       "    </tr>\n",
       "  </tbody>\n",
       "</table>\n",
       "</div>"
      ],
      "text/plain": [
       "    category            filename  x_min  y_min  x_max  y_max\n",
       "0      glass  batch_1/000006.jpg    497    107    984   1469\n",
       "1  cardboard  batch_1/000008.jpg    -19    437   1450   1996\n",
       "2  cardboard  batch_1/000008.jpg    511    272   1557    984\n",
       "3    plastic  batch_1/000010.jpg    612    967   1152   1381\n",
       "4    plastic  batch_1/000010.jpg    612    969    696   1060"
      ]
     },
     "execution_count": 19,
     "metadata": {},
     "output_type": "execute_result"
    }
   ],
   "source": [
    "# Calculate maximum x and maximum y points\n",
    "df['x_max'] = df['x_max']+df['x_min'] \n",
    "df['y_max'] = df['y_max']+df['y_min']\n",
    "# Convert float columns to integer\n",
    "for col in  df.columns[2:]:\n",
    "    df[col] = df[col].astype(int)\n",
    "\n",
    "#Add padding to the bounding boxes\n",
    "padding = 20\n",
    "df['x_min'] = df['x_min'] - padding\n",
    "df['y_min'] = df['y_min'] - padding\n",
    "df['x_max'] = df['x_max'] + padding\n",
    "df['y_max'] = df['y_max'] + padding\n",
    "df.head()"
   ]
  },
  {
   "cell_type": "code",
   "execution_count": 20,
   "id": "7e6e5e21",
   "metadata": {},
   "outputs": [
    {
     "data": {
      "text/plain": [
       "False"
      ]
     },
     "execution_count": 20,
     "metadata": {},
     "output_type": "execute_result"
    }
   ],
   "source": [
    "df.isnull().values.any()"
   ]
  },
  {
   "cell_type": "code",
   "execution_count": 21,
   "id": "db30b21f",
   "metadata": {},
   "outputs": [],
   "source": [
    "df.to_csv(TACO_path +'InitialData.csv',index=False)"
   ]
  },
  {
   "cell_type": "code",
   "execution_count": 22,
   "id": "acfe0ad4",
   "metadata": {},
   "outputs": [],
   "source": [
    "# path of the folder containing the original images \n",
    "inPath = TACO_path+'data' \n",
    "# path of the folder that will contain the cropped image \n",
    "#must create this folder locally!\n",
    "outPath = TACO_path+'trainDataTACO'"
   ]
  },
  {
   "cell_type": "code",
   "execution_count": 23,
   "id": "345eefd1",
   "metadata": {},
   "outputs": [],
   "source": [
    "# Reset Dataframe Index\n",
    "df.reset_index(inplace = True , drop = True)"
   ]
  },
  {
   "cell_type": "code",
   "execution_count": 24,
   "id": "b24c5c2c",
   "metadata": {},
   "outputs": [
    {
     "data": {
      "text/html": [
       "<div>\n",
       "<style scoped>\n",
       "    .dataframe tbody tr th:only-of-type {\n",
       "        vertical-align: middle;\n",
       "    }\n",
       "\n",
       "    .dataframe tbody tr th {\n",
       "        vertical-align: top;\n",
       "    }\n",
       "\n",
       "    .dataframe thead th {\n",
       "        text-align: right;\n",
       "    }\n",
       "</style>\n",
       "<table border=\"1\" class=\"dataframe\">\n",
       "  <thead>\n",
       "    <tr style=\"text-align: right;\">\n",
       "      <th></th>\n",
       "      <th>category</th>\n",
       "      <th>filename</th>\n",
       "      <th>x_min</th>\n",
       "      <th>y_min</th>\n",
       "      <th>x_max</th>\n",
       "      <th>y_max</th>\n",
       "    </tr>\n",
       "  </thead>\n",
       "  <tbody>\n",
       "    <tr>\n",
       "      <th>0</th>\n",
       "      <td>glass</td>\n",
       "      <td>batch_1/000006.jpg</td>\n",
       "      <td>497</td>\n",
       "      <td>107</td>\n",
       "      <td>984</td>\n",
       "      <td>1469</td>\n",
       "    </tr>\n",
       "    <tr>\n",
       "      <th>1</th>\n",
       "      <td>cardboard</td>\n",
       "      <td>batch_1/000008.jpg</td>\n",
       "      <td>-19</td>\n",
       "      <td>437</td>\n",
       "      <td>1450</td>\n",
       "      <td>1996</td>\n",
       "    </tr>\n",
       "  </tbody>\n",
       "</table>\n",
       "</div>"
      ],
      "text/plain": [
       "    category            filename  x_min  y_min  x_max  y_max\n",
       "0      glass  batch_1/000006.jpg    497    107    984   1469\n",
       "1  cardboard  batch_1/000008.jpg    -19    437   1450   1996"
      ]
     },
     "execution_count": 24,
     "metadata": {},
     "output_type": "execute_result"
    }
   ],
   "source": [
    "df.head(2)"
   ]
  },
  {
   "cell_type": "code",
   "execution_count": null,
   "id": "2f918134",
   "metadata": {},
   "outputs": [],
   "source": [
    "# Create empty lists\n",
    "new_filename = []\n",
    "new_category = []\n",
    "\n",
    "# Save cropped images in a new directory\n",
    "for ind in df.index:\n",
    "    bbox = (df['x_min'][ind],df['y_min'][ind],df['x_max'][ind],df['y_max'][ind])\n",
    "    imagePath = os.path.join(inPath+'/'+df['filename'][ind])\n",
    "    img = Image.open(imagePath)\n",
    "    img = img.crop(bbox)\n",
    "    print(\"Images created successfully\")\n",
    "    imageName = df[\"filename\"][ind].split('/')[0]+df[\"filename\"][ind].split('/')[1]\n",
    "    imageName = imageName[-4]\n",
    "    folder_name = df[\"category\"][ind]\n",
    "    croppedImagePath = outPath +'/'+ folder_name +\"/\"+ imageName +'cropped'+'.jpg'\n",
    "    img.save(croppedImagePath)"
   ]
  },
  {
   "cell_type": "code",
   "execution_count": null,
   "id": "a6a5c243",
   "metadata": {},
   "outputs": [],
   "source": []
  },
  {
   "cell_type": "code",
   "execution_count": null,
   "id": "a6159772",
   "metadata": {},
   "outputs": [],
   "source": []
  }
 ],
 "metadata": {
  "kernelspec": {
   "display_name": "Python 3 (ipykernel)",
   "language": "python",
   "name": "python3"
  },
  "language_info": {
   "codemirror_mode": {
    "name": "ipython",
    "version": 3
   },
   "file_extension": ".py",
   "mimetype": "text/x-python",
   "name": "python",
   "nbconvert_exporter": "python",
   "pygments_lexer": "ipython3",
   "version": "3.8.6"
  },
  "toc": {
   "base_numbering": 1,
   "nav_menu": {},
   "number_sections": true,
   "sideBar": true,
   "skip_h1_title": false,
   "title_cell": "Table of Contents",
   "title_sidebar": "Contents",
   "toc_cell": false,
   "toc_position": {},
   "toc_section_display": true,
   "toc_window_display": false
  }
 },
 "nbformat": 4,
 "nbformat_minor": 5
}
