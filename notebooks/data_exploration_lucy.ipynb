{
 "cells": [
  {
   "cell_type": "markdown",
   "id": "e37a33eb",
   "metadata": {
    "heading_collapsed": true
   },
   "source": [
    "# Unpacking TACO Annotations Json"
   ]
  },
  {
   "cell_type": "code",
   "execution_count": 1,
   "id": "750d4842",
   "metadata": {
    "hidden": true
   },
   "outputs": [],
   "source": [
    "import pandas as pd\n",
    "import json\n",
    "import shutil"
   ]
  },
  {
   "cell_type": "code",
   "execution_count": 2,
   "id": "c1a158e0",
   "metadata": {
    "hidden": true
   },
   "outputs": [],
   "source": [
    "category_conversion = {}\n",
    "category_conversion['metal'] = [0,8,10,11,12,28]\n",
    "category_conversion['cardboard'] = [13,14,15,16,17,18,19,20]\n",
    "category_conversion['glass'] = [6,9,23,26]\n",
    "category_conversion['paper'] = [21,30,31,32,33,34]\n",
    "category_conversion['plastic'] = [4,5,7,24,27,43,44,47,49,55]\n",
    "category_conversion['trash'] = [1,2,3,22,25,29,35,36,37,38,39,40,41,42,45,46,48,50,51,52,53,54,57,58,59]"
   ]
  },
  {
   "cell_type": "code",
   "execution_count": 3,
   "id": "2f2c4418",
   "metadata": {
    "hidden": true
   },
   "outputs": [],
   "source": [
    "def open_json(n):\n",
    "    \"\"\"opens the json for taco batch and extracts the image and category data\"\"\"\n",
    "    file = open(f'/Users/Lucy/code/MeylerL/waste_classification/raw_data/TACO/taco_jsons/batch_{n}_annotations.json')\n",
    "    data = json.load(file)\n",
    "    image_data = data['images']\n",
    "    category_data = data['annotations']\n",
    "    return image_data, category_data"
   ]
  },
  {
   "cell_type": "code",
   "execution_count": 4,
   "id": "db19bb3a",
   "metadata": {
    "hidden": true
   },
   "outputs": [],
   "source": [
    "def image_ids(image_data):\n",
    "    \"\"\" returns a dict with image_ids and image file names\"\"\"\n",
    "    image_files = {}\n",
    "    for item in image_data:\n",
    "        image_files[item['id']] = item['file_name']\n",
    "    return image_files"
   ]
  },
  {
   "cell_type": "code",
   "execution_count": 27,
   "id": "9689dcd9",
   "metadata": {
    "hidden": true
   },
   "outputs": [],
   "source": [
    "def image_categories(category_data):\n",
    "    \"\"\" returns a dict with the image_ids and the taco category numbers labelling that image\"\"\"\n",
    "    image_categories_dict = {}\n",
    "    for item in category_data:\n",
    "        if item['image_id'] in image_categories_dict:\n",
    "            image_categories_dict[item['image_id']].append(item['category_id'])\n",
    "        else:\n",
    "            image_categories_dict[item['image_id']] = [item['category_id']]\n",
    "    for key in image_categories_dict:\n",
    "        image_categories_dict[key] = list(set(image_categories_dict[key]))\n",
    "    return image_categories_dict"
   ]
  },
  {
   "cell_type": "code",
   "execution_count": 6,
   "id": "cf4f3e60",
   "metadata": {
    "hidden": true
   },
   "outputs": [],
   "source": [
    "def compatible_images(image_categories):\n",
    "    \"\"\" returns a dict with image_id and category, only includes images that are labelled \n",
    "    with one trashnet category\"\"\"\n",
    "    new_image_categories = {}\n",
    "    for key in image_categories.keys():\n",
    "        target_list = []\n",
    "        for label in image_categories[key]:\n",
    "            if label in category_conversion['trash']:\n",
    "                target_list.append('trash')\n",
    "            elif label in category_conversion['cardboard']:\n",
    "                target_list.append('cardboard')\n",
    "            elif label in category_conversion['plastic']:\n",
    "                target_list.append('plastic')\n",
    "            elif label in category_conversion['paper']:\n",
    "                target_list.append('paper')\n",
    "            elif label in category_conversion['metal']:\n",
    "                target_list.append('metal')\n",
    "            elif label in category_conversion['glass']:\n",
    "                target_list.append('glass')\n",
    "        new_image_categories[key] = target_list\n",
    "    for key in new_image_categories:\n",
    "        new_image_categories[key] = list(set(new_image_categories[key]))\n",
    "    final_images = {k:v for k,v in new_image_categories.items() if len(v) <= 1}\n",
    "    return final_images"
   ]
  },
  {
   "cell_type": "code",
   "execution_count": 11,
   "id": "16271d80",
   "metadata": {
    "hidden": true,
    "scrolled": true
   },
   "outputs": [],
   "source": [
    "def move_images(n, final_images, image_files):\n",
    "    \"\"\"creates dataframe of images to be moved and moves them to relevant trashnet folder\"\"\"\n",
    "    id_category_df = pd.DataFrame.from_dict(final_images, orient ='index')\n",
    "    id_filename_df = pd.DataFrame.from_dict(image_files, orient ='index')\n",
    "    image_df = id_category_df.merge(id_filename_df, left_index=True, right_index=True)\n",
    "    image_df.rename(columns = {'0_x':'category', '0_y':'filename'}, inplace = True)\n",
    "    for index, row in image_df.iterrows():\n",
    "        shutil.move(f'/Users/Lucy/code/MeylerL/waste_classification/raw_data/TACO/data/batch_{n}/{row[\"filename\"]}',\n",
    "                f'/Users/Lucy/code/MeylerL/waste_classification/raw_data/taco_sorted/{row[\"category\"]}/batch_{n}{row[\"filename\"]}')\n",
    "    return None"
   ]
  },
  {
   "cell_type": "code",
   "execution_count": 28,
   "id": "04f31159",
   "metadata": {
    "hidden": true
   },
   "outputs": [],
   "source": [
    "# looping through all taco jsons to move images to relevant trahsnet folders\n",
    "for item in range(2,16):\n",
    "    image_data, category_data = open_json(item)\n",
    "    image_files = image_ids(image_data)\n",
    "    image_cats = image_categories(category_data)\n",
    "    final_images = compatible_images(image_cats)\n",
    "    move_images(item, final_images, image_files)"
   ]
  },
  {
   "cell_type": "markdown",
   "id": "4db623e0",
   "metadata": {
    "heading_collapsed": true
   },
   "source": [
    "# Loading Unpacked Taco"
   ]
  },
  {
   "cell_type": "code",
   "execution_count": 15,
   "id": "9c308c07",
   "metadata": {
    "hidden": true
   },
   "outputs": [
    {
     "name": "stdout",
     "output_type": "stream",
     "text": [
      "The autoreload extension is already loaded. To reload it, use:\n",
      "  %reload_ext autoreload\n"
     ]
    }
   ],
   "source": [
    "%load_ext autoreload\n",
    "%autoreload 2\n",
    "import tensorflow \n",
    "import pandas as pd\n",
    "import matplotlib.pyplot as plt\n",
    "import numpy as np\n",
    "import os\n",
    "import PIL\n",
    "import PIL.Image\n",
    "from glob import glob\n",
    "from tensorflow.keras.layers.experimental.preprocessing import Rescaling, RandomRotation, RandomFlip\n",
    "from tensorflow.keras import Sequential\n",
    "from tensorflow.keras.preprocessing import image_dataset_from_directory\n",
    "from tensorflow.keras.layers.experimental.preprocessing import Rescaling\n",
    "from tensorflow.keras.layers import Conv2D, MaxPooling2D, Flatten, Dense\n",
    "from tensorflow.keras.losses import SparseCategoricalCrossentropy\n",
    "from tensorflow.data import AUTOTUNE"
   ]
  },
  {
   "cell_type": "code",
   "execution_count": 16,
   "id": "288bd4ca",
   "metadata": {
    "hidden": true
   },
   "outputs": [],
   "source": [
    "from waste_classification import trashnet_pipeline, trashnet_data_loader"
   ]
  },
  {
   "cell_type": "markdown",
   "id": "31446d89",
   "metadata": {},
   "source": [
    "# Docker testing"
   ]
  },
  {
   "cell_type": "code",
   "execution_count": 5,
   "id": "5252c3b4",
   "metadata": {},
   "outputs": [],
   "source": [
    "from waste_classification.trainer import Trainer"
   ]
  },
  {
   "cell_type": "code",
   "execution_count": 6,
   "id": "b37ff5bd",
   "metadata": {},
   "outputs": [
    {
     "ename": "TypeError",
     "evalue": "__init__() takes 1 positional argument but 2 were given",
     "output_type": "error",
     "traceback": [
      "\u001b[0;31m---------------------------------------------------------------------------\u001b[0m",
      "\u001b[0;31mTypeError\u001b[0m                                 Traceback (most recent call last)",
      "\u001b[0;32m/var/folders/kc/6mzbl5c10vn541b4r0pwkhs00000gn/T/ipykernel_70464/162995242.py\u001b[0m in \u001b[0;36m<module>\u001b[0;34m\u001b[0m\n\u001b[0;32m----> 1\u001b[0;31m \u001b[0mt\u001b[0m \u001b[0;34m=\u001b[0m \u001b[0mTrainer\u001b[0m\u001b[0;34m(\u001b[0m\u001b[0;34m\"ResNet50\"\u001b[0m\u001b[0;34m)\u001b[0m\u001b[0;34m\u001b[0m\u001b[0;34m\u001b[0m\u001b[0m\n\u001b[0m",
      "\u001b[0;31mTypeError\u001b[0m: __init__() takes 1 positional argument but 2 were given"
     ]
    }
   ],
   "source": [
    "t = Trainer(\"ResNet50\")"
   ]
  },
  {
   "cell_type": "code",
   "execution_count": null,
   "id": "049bbe71",
   "metadata": {},
   "outputs": [],
   "source": []
  }
 ],
 "metadata": {
  "kernelspec": {
   "display_name": "Python 3 (ipykernel)",
   "language": "python",
   "name": "python3"
  },
  "language_info": {
   "codemirror_mode": {
    "name": "ipython",
    "version": 3
   },
   "file_extension": ".py",
   "mimetype": "text/x-python",
   "name": "python",
   "nbconvert_exporter": "python",
   "pygments_lexer": "ipython3",
   "version": "3.8.6"
  },
  "toc": {
   "base_numbering": 1,
   "nav_menu": {},
   "number_sections": true,
   "sideBar": true,
   "skip_h1_title": false,
   "title_cell": "Table of Contents",
   "title_sidebar": "Contents",
   "toc_cell": false,
   "toc_position": {},
   "toc_section_display": true,
   "toc_window_display": false
  }
 },
 "nbformat": 4,
 "nbformat_minor": 5
}
